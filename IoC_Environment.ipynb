{
 "cells": [
  {
   "cell_type": "markdown",
   "id": "21df6bd1",
   "metadata": {},
   "source": [
    "# Dependency of Lifetime and the Indicator Environment"
   ]
  },
  {
   "cell_type": "code",
   "execution_count": 1,
   "id": "097259bb",
   "metadata": {},
   "outputs": [],
   "source": [
    "# Package import\n",
    "import numpy as np\n",
    "import pandas as pd \n",
    "import json\n",
    "import math \n",
    "from datetime import datetime, timedelta\n",
    "from IPython.display import HTML, display\n",
    "import matplotlib.pyplot as plt\n",
    "import seaborn as sns\n",
    "from msticpy.vis import mp_pandas_plot\n",
    "from msticpy.vis.data_viewer import DataViewer\n",
    "from scipy import stats\n",
    "from sklearn.model_selection import train_test_split\n",
    "\n",
    "# Disable warnings\n",
    "import warnings\n",
    "warnings.filterwarnings(\"ignore\")\n",
    "warnings.simplefilter(\"ignore\")"
   ]
  },
  {
   "cell_type": "markdown",
   "id": "cd397337",
   "metadata": {},
   "source": [
    "## General Malware Indicator Dataset"
   ]
  },
  {
   "cell_type": "code",
   "execution_count": 2,
   "id": "2b4a9f3c",
   "metadata": {},
   "outputs": [],
   "source": [
    "# Remove all rows without a last seen\n",
    "urlData = pd.read_csv('.\\Data\\Threat_Fox\\\\threat_fox_urls.csv',sep=',', skipinitialspace=True)\n",
    "urlData = urlData.loc[urlData[\"last_seen_utc\"].notna()]\n",
    "\n",
    "ipData = pd.read_csv('.\\Data\\Threat_Fox\\\\threat_fox_ip.csv',sep=',', skipinitialspace=True)\n",
    "ipData = ipData.loc[ipData[\"last_seen_utc\"].notna()]\n",
    "\n",
    "hashData = pd.read_csv('.\\Data\\Threat_Fox\\\\threat_fox_md5.csv',sep=',', skipinitialspace=True)\n",
    "hashData = hashData.loc[hashData[\"last_seen_utc\"].notna()]"
   ]
  },
  {
   "cell_type": "code",
   "execution_count": 3,
   "id": "0ed0ad6c",
   "metadata": {},
   "outputs": [],
   "source": [
    "# Remove all rows where Indicator is younger then one year\n",
    "present = datetime.now()\n",
    "past = timedelta(days=31)\n",
    "year = present - past\n",
    "\n",
    "urlData[\"last_seen_utc\"] = urlData[\"last_seen_utc\"].apply(lambda x: pd.to_datetime(x))\n",
    "urlData[\"first_seen_utc\"] = urlData[\"first_seen_utc\"].apply(lambda x: pd.to_datetime(x))\n",
    "urlData = urlData[urlData[\"last_seen_utc\"] < year]\n",
    "urlData = urlData[urlData[\"last_seen_utc\"] != urlData[\"first_seen_utc\"]]\n",
    "\n",
    "ipData[\"last_seen_utc\"] = ipData[\"last_seen_utc\"].apply(lambda x: pd.to_datetime(x))\n",
    "ipData[\"first_seen_utc\"] = ipData[\"first_seen_utc\"].apply(lambda x: pd.to_datetime(x))\n",
    "ipData = ipData[ipData[\"last_seen_utc\"] < year]\n",
    "ipData = ipData[ipData[\"last_seen_utc\"] != ipData[\"first_seen_utc\"]]\n",
    "\n",
    "hashData[\"last_seen_utc\"] = hashData[\"last_seen_utc\"].apply(lambda x: pd.to_datetime(x))\n",
    "hashData[\"first_seen_utc\"] = hashData[\"first_seen_utc\"].apply(lambda x: pd.to_datetime(x))\n",
    "hashData = hashData[hashData[\"last_seen_utc\"] < year]\n",
    "hashData = hashData[hashData[\"last_seen_utc\"] != hashData[\"first_seen_utc\"]]"
   ]
  },
  {
   "cell_type": "code",
   "execution_count": 4,
   "id": "2dd44c25",
   "metadata": {},
   "outputs": [],
   "source": [
    "# Calculate lifetime and delete negative values\n",
    "urlData['lifetimeHours'] = (urlData[\"last_seen_utc\"] - urlData[\"first_seen_utc\"]) / pd.Timedelta(hours=1)\n",
    "urlData = urlData[urlData['lifetimeHours'] >= 0].dropna()\n",
    "\n",
    "ipData['lifetimeHours'] = (ipData[\"last_seen_utc\"] - ipData[\"first_seen_utc\"]) / pd.Timedelta(hours=1)\n",
    "ipData = ipData[ipData['lifetimeHours'] >= 0].dropna()\n",
    "\n",
    "hashData['lifetimeHours'] = (hashData[\"last_seen_utc\"] - hashData[\"first_seen_utc\"]) / pd.Timedelta(hours=1)\n",
    "hashData = hashData[hashData['lifetimeHours'] >= 0].dropna()"
   ]
  },
  {
   "cell_type": "code",
   "execution_count": 5,
   "id": "2e5b33f8",
   "metadata": {},
   "outputs": [
    {
     "data": {
      "text/plain": [
       "127448"
      ]
     },
     "execution_count": 5,
     "metadata": {},
     "output_type": "execute_result"
    }
   ],
   "source": [
    "fullData = pd.concat([urlData, hashData, ipData], axis=0)\n",
    "fullData.shape[0]"
   ]
  },
  {
   "cell_type": "markdown",
   "id": "d58ef84f",
   "metadata": {},
   "source": [
    "### Percentile"
   ]
  },
  {
   "cell_type": "code",
   "execution_count": 6,
   "id": "9e66c3b5",
   "metadata": {},
   "outputs": [
    {
     "data": {
      "text/html": [
       "<table><tr><td>10% Lifetime</td><td>0:55:48</td></tr><tr><td>20% Lifetime</td><td>2:44:00</td></tr><tr><td>30% Lifetime</td><td>4:30:02</td></tr><tr><td>40% Lifetime</td><td>7:39:17</td></tr><tr><td>50% Lifetime</td><td>18:49:52</td></tr><tr><td>60% Lifetime</td><td>3 days, 13:25:04</td></tr><tr><td>70% Lifetime</td><td>3 days, 22:22:17.800000</td></tr><tr><td>80% Lifetime</td><td>12 days, 0:00:31</td></tr><tr><td>90% Lifetime</td><td>102 days, 23:54:52.700000</td></tr><tr><td>100% Lifetime</td><td>1364 days, 6:11:49</td></tr></table>"
      ],
      "text/plain": [
       "<IPython.core.display.HTML object>"
      ]
     },
     "metadata": {},
     "output_type": "display_data"
    }
   ],
   "source": [
    "# Display information\n",
    "average = [[\"10% Lifetime\",timedelta(hours=np.percentile(fullData[\"lifetimeHours\"], 10))], \n",
    "           [\"20% Lifetime\",timedelta(hours=np.percentile(fullData[\"lifetimeHours\"], 20))], \n",
    "           [\"30% Lifetime\",timedelta(hours=np.percentile(fullData[\"lifetimeHours\"], 30))],\n",
    "           [\"40% Lifetime\",timedelta(hours=np.percentile(fullData[\"lifetimeHours\"], 40))], \n",
    "           [\"50% Lifetime\",timedelta(hours=np.percentile(fullData[\"lifetimeHours\"], 50))],\n",
    "           [\"60% Lifetime\",timedelta(hours=np.percentile(fullData[\"lifetimeHours\"], 60))],\n",
    "           [\"70% Lifetime\",timedelta(hours=np.percentile(fullData[\"lifetimeHours\"], 70))],\n",
    "           [\"80% Lifetime\",timedelta(hours=np.percentile(fullData[\"lifetimeHours\"], 80))],\n",
    "           [\"90% Lifetime\",timedelta(hours=np.percentile(fullData[\"lifetimeHours\"], 90))],\n",
    "           [\"100% Lifetime\",timedelta(hours=np.percentile(fullData[\"lifetimeHours\"], 100))]]\n",
    "\n",
    "display(HTML(\n",
    "   \"<table><tr>{}</tr></table>\".format(\n",
    "       \"</tr><tr>\".join(\n",
    "           \"<td>{}</td>\".format(\"</td><td>\".join(str(_) for _ in row)) for row in average))\n",
    "))"
   ]
  },
  {
   "cell_type": "code",
   "execution_count": 7,
   "id": "85db8a4c",
   "metadata": {},
   "outputs": [],
   "source": [
    "# Split1 = 50/50\n",
    "split1_50_train, split1_50_test = train_test_split(fullData, test_size=0.5)\n",
    "\n",
    "# Split1 = 70/30\n",
    "split2_30_train, split2_70_test = train_test_split(fullData, test_size=0.7)\n",
    "\n",
    "# Split1 = 30/70\n",
    "split3_70_train, split3_30_test = train_test_split(fullData, test_size=0.3)"
   ]
  },
  {
   "cell_type": "markdown",
   "id": "ec425dd2",
   "metadata": {},
   "source": [
    "### Split 1"
   ]
  },
  {
   "cell_type": "code",
   "execution_count": 8,
   "id": "754fb014",
   "metadata": {},
   "outputs": [
    {
     "data": {
      "text/html": [
       "<table><tr><td>10% Lifetime</td><td>Train: 0:55:48 Test: 0:55:47</td></tr><tr><td>20% Lifetime</td><td>Train: 2:43:40 Test: 2:44:55.400000</td></tr><tr><td>30% Lifetime</td><td>Train: 4:30:08 Test: 4:29:51.900000</td></tr><tr><td>40% Lifetime</td><td>Train: 7:39:25.200000 Test: 7:39:11</td></tr><tr><td>50% Lifetime</td><td>Train: 18:29:46 Test: 19:00:04.500000</td></tr><tr><td>60% Lifetime</td><td>Train: 3 days, 13:19:18.600000 Test: 3 days, 13:27:31.800000</td></tr><tr><td>70% Lifetime</td><td>Train: 3 days, 22:08:46.900000 Test: 3 days, 22:31:39</td></tr><tr><td>80% Lifetime</td><td>Train: 11 days, 17:03:21 Test: 12 days, 6:40:12.200000</td></tr><tr><td>90% Lifetime</td><td>Train: 98 days, 22:05:39 Test: 107 days, 0:07:48.800000</td></tr><tr><td>100% Lifetime</td><td>Train: 1364 days, 6:11:49 Test: 1364 days, 6:11:49</td></tr></table>"
      ],
      "text/plain": [
       "<IPython.core.display.HTML object>"
      ]
     },
     "metadata": {},
     "output_type": "display_data"
    }
   ],
   "source": [
    "# Display information\n",
    "average = [[\"10% Lifetime\",\"Train: \" +  str(timedelta(hours=np.percentile(split1_50_train[\"lifetimeHours\"], 10))) + \" Test: \" +  str(timedelta(hours=np.percentile(split1_50_test[\"lifetimeHours\"], 10)))], \n",
    "           [\"20% Lifetime\",\"Train: \" +  str(timedelta(hours=np.percentile(split1_50_train[\"lifetimeHours\"], 20))) + \" Test: \" +  str(timedelta(hours=np.percentile(split1_50_test[\"lifetimeHours\"], 20)))], \n",
    "           [\"30% Lifetime\",\"Train: \" +  str(timedelta(hours=np.percentile(split1_50_train[\"lifetimeHours\"], 30))) + \" Test: \" +  str(timedelta(hours=np.percentile(split1_50_test[\"lifetimeHours\"], 30)))],\n",
    "           [\"40% Lifetime\",\"Train: \" +  str(timedelta(hours=np.percentile(split1_50_train[\"lifetimeHours\"], 40))) + \" Test: \" +  str(timedelta(hours=np.percentile(split1_50_test[\"lifetimeHours\"], 40)))], \n",
    "           [\"50% Lifetime\",\"Train: \" +  str(timedelta(hours=np.percentile(split1_50_train[\"lifetimeHours\"], 50))) + \" Test: \" +  str(timedelta(hours=np.percentile(split1_50_test[\"lifetimeHours\"], 50)))],\n",
    "           [\"60% Lifetime\",\"Train: \" +  str(timedelta(hours=np.percentile(split1_50_train[\"lifetimeHours\"], 60))) + \" Test: \" +  str(timedelta(hours=np.percentile(split1_50_test[\"lifetimeHours\"], 60)))],\n",
    "           [\"70% Lifetime\",\"Train: \" +  str(timedelta(hours=np.percentile(split1_50_train[\"lifetimeHours\"], 70))) + \" Test: \" +  str(timedelta(hours=np.percentile(split1_50_test[\"lifetimeHours\"], 70)))],\n",
    "           [\"80% Lifetime\",\"Train: \" +  str(timedelta(hours=np.percentile(split1_50_train[\"lifetimeHours\"], 80))) + \" Test: \" +  str(timedelta(hours=np.percentile(split1_50_test[\"lifetimeHours\"], 80)))],\n",
    "           [\"90% Lifetime\",\"Train: \" +  str(timedelta(hours=np.percentile(split1_50_train[\"lifetimeHours\"], 90))) + \" Test: \" +  str(timedelta(hours=np.percentile(split1_50_test[\"lifetimeHours\"], 90)))],\n",
    "           [\"100% Lifetime\",\"Train: \" +  str(timedelta(hours=np.percentile(split1_50_train[\"lifetimeHours\"], 100))) + \" Test: \" +  str(timedelta(hours=np.percentile(split1_50_test[\"lifetimeHours\"], 100)))]]\n",
    "\n",
    "display(HTML(\n",
    "   \"<table><tr>{}</tr></table>\".format(\n",
    "       \"</tr><tr>\".join(\n",
    "           \"<td>{}</td>\".format(\"</td><td>\".join(str(_) for _ in row)) for row in average))\n",
    "))"
   ]
  },
  {
   "cell_type": "code",
   "execution_count": 9,
   "id": "f4a3fc87",
   "metadata": {},
   "outputs": [
    {
     "name": "stdout",
     "output_type": "stream",
     "text": [
      "-1 day, 3:07:53.110000\n"
     ]
    }
   ],
   "source": [
    "# Display information\n",
    "tf_1 = ((timedelta(hours=np.percentile(split1_50_train[\"lifetimeHours\"], 10)) -  timedelta(hours=np.percentile(split1_50_test[\"lifetimeHours\"], 10))) +\n",
    "(timedelta(hours=np.percentile(split1_50_train[\"lifetimeHours\"], 20)) -  timedelta(hours=np.percentile(split1_50_test[\"lifetimeHours\"], 20))) +\n",
    "(timedelta(hours=np.percentile(split1_50_train[\"lifetimeHours\"], 30)) -  timedelta(hours=np.percentile(split1_50_test[\"lifetimeHours\"], 30))) +\n",
    "(timedelta(hours=np.percentile(split1_50_train[\"lifetimeHours\"], 40)) -  timedelta(hours=np.percentile(split1_50_test[\"lifetimeHours\"], 40))) +\n",
    "(timedelta(hours=np.percentile(split1_50_train[\"lifetimeHours\"], 50)) -  timedelta(hours=np.percentile(split1_50_test[\"lifetimeHours\"], 50))) +\n",
    "(timedelta(hours=np.percentile(split1_50_train[\"lifetimeHours\"], 60)) -  timedelta(hours=np.percentile(split1_50_test[\"lifetimeHours\"], 60))) +\n",
    "(timedelta(hours=np.percentile(split1_50_train[\"lifetimeHours\"], 70)) -  timedelta(hours=np.percentile(split1_50_test[\"lifetimeHours\"], 70))) +\n",
    "(timedelta(hours=np.percentile(split1_50_train[\"lifetimeHours\"], 80)) -  timedelta(hours=np.percentile(split1_50_test[\"lifetimeHours\"], 80))) +\n",
    "(timedelta(hours=np.percentile(split1_50_train[\"lifetimeHours\"], 90)) -  timedelta(hours=np.percentile(split1_50_test[\"lifetimeHours\"], 90))) +\n",
    "(timedelta(hours=np.percentile(split1_50_train[\"lifetimeHours\"], 100)) -  timedelta(hours=np.percentile(split1_50_test[\"lifetimeHours\"], 100)))) / 10\n",
    "print(tf_1)"
   ]
  },
  {
   "cell_type": "markdown",
   "id": "2a08b41a",
   "metadata": {},
   "source": [
    "### Split 2"
   ]
  },
  {
   "cell_type": "code",
   "execution_count": 10,
   "id": "679b8010",
   "metadata": {},
   "outputs": [
    {
     "data": {
      "text/html": [
       "<table><tr><td>10% Lifetime</td><td>Train: 0:55:58 Test: 0:55:46</td></tr><tr><td>20% Lifetime</td><td>Train: 2:42:24 Test: 2:44:36.200000</td></tr><tr><td>30% Lifetime</td><td>Train: 4:29:44 Test: 4:30:06</td></tr><tr><td>40% Lifetime</td><td>Train: 7:38:46.800000 Test: 7:39:27</td></tr><tr><td>50% Lifetime</td><td>Train: 19:30:32.500000 Test: 18:04:36.500000</td></tr><tr><td>60% Lifetime</td><td>Train: 3 days, 13:26:06.800000 Test: 3 days, 13:24:51.800000</td></tr><tr><td>70% Lifetime</td><td>Train: 3 days, 20:55:02.100000 Test: 3 days, 22:31:46.100000</td></tr><tr><td>80% Lifetime</td><td>Train: 11 days, 19:18:07.400000 Test: 12 days, 1:13:20.200000</td></tr><tr><td>90% Lifetime</td><td>Train: 101 days, 14:23:10.700000 Test: 103 days, 12:51:15.500000</td></tr><tr><td>100% Lifetime</td><td>Train: 1364 days, 6:11:49 Test: 1364 days, 6:11:49</td></tr></table>"
      ],
      "text/plain": [
       "<IPython.core.display.HTML object>"
      ]
     },
     "metadata": {},
     "output_type": "display_data"
    }
   ],
   "source": [
    "# Display information\n",
    "average = [[\"10% Lifetime\",\"Train: \" +  str(timedelta(hours=np.percentile(split2_30_train[\"lifetimeHours\"], 10))) + \" Test: \" +  str(timedelta(hours=np.percentile(split2_70_test[\"lifetimeHours\"], 10)))], \n",
    "           [\"20% Lifetime\",\"Train: \" +  str(timedelta(hours=np.percentile(split2_30_train[\"lifetimeHours\"], 20))) + \" Test: \" +  str(timedelta(hours=np.percentile(split2_70_test[\"lifetimeHours\"], 20)))], \n",
    "           [\"30% Lifetime\",\"Train: \" +  str(timedelta(hours=np.percentile(split2_30_train[\"lifetimeHours\"], 30))) + \" Test: \" +  str(timedelta(hours=np.percentile(split2_70_test[\"lifetimeHours\"], 30)))],\n",
    "           [\"40% Lifetime\",\"Train: \" +  str(timedelta(hours=np.percentile(split2_30_train[\"lifetimeHours\"], 40))) + \" Test: \" +  str(timedelta(hours=np.percentile(split2_70_test[\"lifetimeHours\"], 40)))], \n",
    "           [\"50% Lifetime\",\"Train: \" +  str(timedelta(hours=np.percentile(split2_30_train[\"lifetimeHours\"], 50))) + \" Test: \" +  str(timedelta(hours=np.percentile(split2_70_test[\"lifetimeHours\"], 50)))],\n",
    "           [\"60% Lifetime\",\"Train: \" +  str(timedelta(hours=np.percentile(split2_30_train[\"lifetimeHours\"], 60))) + \" Test: \" +  str(timedelta(hours=np.percentile(split2_70_test[\"lifetimeHours\"], 60)))],\n",
    "           [\"70% Lifetime\",\"Train: \" +  str(timedelta(hours=np.percentile(split2_30_train[\"lifetimeHours\"], 70))) + \" Test: \" +  str(timedelta(hours=np.percentile(split2_70_test[\"lifetimeHours\"], 70)))],\n",
    "           [\"80% Lifetime\",\"Train: \" +  str(timedelta(hours=np.percentile(split2_30_train[\"lifetimeHours\"], 80))) + \" Test: \" +  str(timedelta(hours=np.percentile(split2_70_test[\"lifetimeHours\"], 80)))],\n",
    "           [\"90% Lifetime\",\"Train: \" +  str(timedelta(hours=np.percentile(split2_30_train[\"lifetimeHours\"], 90))) + \" Test: \" +  str(timedelta(hours=np.percentile(split2_70_test[\"lifetimeHours\"], 90)))],\n",
    "           [\"100% Lifetime\",\"Train: \" +  str(timedelta(hours=np.percentile(split2_30_train[\"lifetimeHours\"], 100))) + \" Test: \" +  str(timedelta(hours=np.percentile(split2_70_test[\"lifetimeHours\"], 100)))]]\n",
    "\n",
    "display(HTML(\n",
    "   \"<table><tr>{}</tr></table>\".format(\n",
    "       \"</tr><tr>\".join(\n",
    "           \"<td>{}</td>\".format(\"</td><td>\".join(str(_) for _ in row)) for row in average))\n",
    "))"
   ]
  },
  {
   "cell_type": "code",
   "execution_count": 11,
   "id": "4210e6cc",
   "metadata": {},
   "outputs": [
    {
     "name": "stdout",
     "output_type": "stream",
     "text": [
      "-1 day, 18:44:24.700000\n"
     ]
    }
   ],
   "source": [
    "# Display information\n",
    "tf_2 = ((timedelta(hours=np.percentile(split2_30_train[\"lifetimeHours\"], 10)) -  timedelta(hours=np.percentile(split2_70_test[\"lifetimeHours\"], 10))) +\n",
    "(timedelta(hours=np.percentile(split2_30_train[\"lifetimeHours\"], 20)) -  timedelta(hours=np.percentile(split2_70_test[\"lifetimeHours\"], 20))) +\n",
    "(timedelta(hours=np.percentile(split2_30_train[\"lifetimeHours\"], 30)) -  timedelta(hours=np.percentile(split2_70_test[\"lifetimeHours\"], 30))) +\n",
    "(timedelta(hours=np.percentile(split2_30_train[\"lifetimeHours\"], 40)) -  timedelta(hours=np.percentile(split2_70_test[\"lifetimeHours\"], 40))) +\n",
    "(timedelta(hours=np.percentile(split2_30_train[\"lifetimeHours\"], 50)) -  timedelta(hours=np.percentile(split2_70_test[\"lifetimeHours\"], 50))) +\n",
    "(timedelta(hours=np.percentile(split2_30_train[\"lifetimeHours\"], 60)) -  timedelta(hours=np.percentile(split2_70_test[\"lifetimeHours\"], 60))) +\n",
    "(timedelta(hours=np.percentile(split2_30_train[\"lifetimeHours\"], 70)) -  timedelta(hours=np.percentile(split2_70_test[\"lifetimeHours\"], 70))) +\n",
    "(timedelta(hours=np.percentile(split2_30_train[\"lifetimeHours\"], 80)) -  timedelta(hours=np.percentile(split2_70_test[\"lifetimeHours\"], 80))) +\n",
    "(timedelta(hours=np.percentile(split2_30_train[\"lifetimeHours\"], 90)) -  timedelta(hours=np.percentile(split2_70_test[\"lifetimeHours\"], 90))) +\n",
    "(timedelta(hours=np.percentile(split2_30_train[\"lifetimeHours\"], 100)) -  timedelta(hours=np.percentile(split2_70_test[\"lifetimeHours\"], 100)))) / 10\n",
    "print(tf_2)"
   ]
  },
  {
   "cell_type": "markdown",
   "id": "f1fb73f4",
   "metadata": {},
   "source": [
    "### Split 3"
   ]
  },
  {
   "cell_type": "code",
   "execution_count": 12,
   "id": "1eaad527",
   "metadata": {},
   "outputs": [
    {
     "data": {
      "text/html": [
       "<table><tr><td>10% Lifetime</td><td>Train: 0:55:45 Test: 0:56:00</td></tr><tr><td>20% Lifetime</td><td>Train: 2:43:08.800000 Test: 2:45:48</td></tr><tr><td>30% Lifetime</td><td>Train: 4:29:45 Test: 4:30:27</td></tr><tr><td>40% Lifetime</td><td>Train: 7:37:47 Test: 7:40:16.600000</td></tr><tr><td>50% Lifetime</td><td>Train: 17:58:18 Test: 19:57:07</td></tr><tr><td>60% Lifetime</td><td>Train: 3 days, 13:24:56.200000 Test: 3 days, 13:25:14</td></tr><tr><td>70% Lifetime</td><td>Train: 3 days, 22:10:56.800000 Test: 3 days, 22:31:43.800000</td></tr><tr><td>80% Lifetime</td><td>Train: 12 days, 3:53:27.800000 Test: 11 days, 12:12:17</td></tr><tr><td>90% Lifetime</td><td>Train: 103 days, 16:24:41.600000 Test: 100 days, 18:19:13</td></tr><tr><td>100% Lifetime</td><td>Train: 1364 days, 6:11:49 Test: 1364 days, 6:11:49</td></tr></table>"
      ],
      "text/plain": [
       "<IPython.core.display.HTML object>"
      ]
     },
     "metadata": {},
     "output_type": "display_data"
    }
   ],
   "source": [
    "# Display information\n",
    "average = [[\"10% Lifetime\",\"Train: \" +  str(timedelta(hours=np.percentile(split3_70_train[\"lifetimeHours\"], 10))) + \" Test: \" +  str(timedelta(hours=np.percentile(split3_30_test[\"lifetimeHours\"], 10)))], \n",
    "           [\"20% Lifetime\",\"Train: \" +  str(timedelta(hours=np.percentile(split3_70_train[\"lifetimeHours\"], 20))) + \" Test: \" +  str(timedelta(hours=np.percentile(split3_30_test[\"lifetimeHours\"], 20)))], \n",
    "           [\"30% Lifetime\",\"Train: \" +  str(timedelta(hours=np.percentile(split3_70_train[\"lifetimeHours\"], 30))) + \" Test: \" +  str(timedelta(hours=np.percentile(split3_30_test[\"lifetimeHours\"], 30)))],\n",
    "           [\"40% Lifetime\",\"Train: \" +  str(timedelta(hours=np.percentile(split3_70_train[\"lifetimeHours\"], 40))) + \" Test: \" +  str(timedelta(hours=np.percentile(split3_30_test[\"lifetimeHours\"], 40)))], \n",
    "           [\"50% Lifetime\",\"Train: \" +  str(timedelta(hours=np.percentile(split3_70_train[\"lifetimeHours\"], 50))) + \" Test: \" +  str(timedelta(hours=np.percentile(split3_30_test[\"lifetimeHours\"], 50)))],\n",
    "           [\"60% Lifetime\",\"Train: \" +  str(timedelta(hours=np.percentile(split3_70_train[\"lifetimeHours\"], 60))) + \" Test: \" +  str(timedelta(hours=np.percentile(split3_30_test[\"lifetimeHours\"], 60)))],\n",
    "           [\"70% Lifetime\",\"Train: \" +  str(timedelta(hours=np.percentile(split3_70_train[\"lifetimeHours\"], 70))) + \" Test: \" +  str(timedelta(hours=np.percentile(split3_30_test[\"lifetimeHours\"], 70)))],\n",
    "           [\"80% Lifetime\",\"Train: \" +  str(timedelta(hours=np.percentile(split3_70_train[\"lifetimeHours\"], 80))) + \" Test: \" +  str(timedelta(hours=np.percentile(split3_30_test[\"lifetimeHours\"], 80)))],\n",
    "           [\"90% Lifetime\",\"Train: \" +  str(timedelta(hours=np.percentile(split3_70_train[\"lifetimeHours\"], 90))) + \" Test: \" +  str(timedelta(hours=np.percentile(split3_30_test[\"lifetimeHours\"], 90)))],\n",
    "           [\"100% Lifetime\",\"Train: \" +  str(timedelta(hours=np.percentile(split3_70_train[\"lifetimeHours\"], 100))) + \" Test: \" +  str(timedelta(hours=np.percentile(split3_30_test[\"lifetimeHours\"], 100)))]]\n",
    "\n",
    "display(HTML(\n",
    "   \"<table><tr>{}</tr></table>\".format(\n",
    "       \"</tr><tr>\".join(\n",
    "           \"<td>{}</td>\".format(\"</td><td>\".join(str(_) for _ in row)) for row in average))\n",
    "))"
   ]
  },
  {
   "cell_type": "code",
   "execution_count": 13,
   "id": "39435b27",
   "metadata": {},
   "outputs": [
    {
     "name": "stdout",
     "output_type": "stream",
     "text": [
      "8:20:03.980000\n"
     ]
    }
   ],
   "source": [
    "# Display information\n",
    "tf_3 = ((timedelta(hours=np.percentile(split3_70_train[\"lifetimeHours\"], 10)) -  timedelta(hours=np.percentile(split3_30_test[\"lifetimeHours\"], 10))) +\n",
    "(timedelta(hours=np.percentile(split3_70_train[\"lifetimeHours\"], 20)) -  timedelta(hours=np.percentile(split3_30_test[\"lifetimeHours\"], 20))) +\n",
    "(timedelta(hours=np.percentile(split3_70_train[\"lifetimeHours\"], 30)) -  timedelta(hours=np.percentile(split3_30_test[\"lifetimeHours\"], 30))) +\n",
    "(timedelta(hours=np.percentile(split3_70_train[\"lifetimeHours\"], 40)) -  timedelta(hours=np.percentile(split3_30_test[\"lifetimeHours\"], 40))) +\n",
    "(timedelta(hours=np.percentile(split3_70_train[\"lifetimeHours\"], 50)) -  timedelta(hours=np.percentile(split3_30_test[\"lifetimeHours\"], 50))) +\n",
    "(timedelta(hours=np.percentile(split3_70_train[\"lifetimeHours\"], 60)) -  timedelta(hours=np.percentile(split3_30_test[\"lifetimeHours\"], 60))) +\n",
    "(timedelta(hours=np.percentile(split3_70_train[\"lifetimeHours\"], 70)) -  timedelta(hours=np.percentile(split3_30_test[\"lifetimeHours\"], 70))) +\n",
    "(timedelta(hours=np.percentile(split3_70_train[\"lifetimeHours\"], 80)) -  timedelta(hours=np.percentile(split3_30_test[\"lifetimeHours\"], 80))) +\n",
    "(timedelta(hours=np.percentile(split3_70_train[\"lifetimeHours\"], 90)) -  timedelta(hours=np.percentile(split3_30_test[\"lifetimeHours\"], 90))) +\n",
    "(timedelta(hours=np.percentile(split3_70_train[\"lifetimeHours\"], 100)) -  timedelta(hours=np.percentile(split3_30_test[\"lifetimeHours\"], 100)))) / 10\n",
    "print(tf_3)"
   ]
  },
  {
   "cell_type": "markdown",
   "id": "51878947",
   "metadata": {},
   "source": [
    "## URL APT Phishing Indicator Dataset"
   ]
  },
  {
   "cell_type": "code",
   "execution_count": 14,
   "id": "284b3a66",
   "metadata": {
    "scrolled": true
   },
   "outputs": [],
   "source": [
    "customData = pd.read_csv(\".\\Data\\\\Phishing\\VT_Submissions_Metadata.csv\", sep=\",\", encoding='windows-1252')\n",
    "# Separat sightings\n",
    "customData[\"sightings\"] = customData[\"sightings\"].str.split(\"#\")\n",
    "\n",
    "# Remove all rows where the indicator is younger than 1 month\n",
    "present = datetime.now()\n",
    "past = timedelta(days=31)\n",
    "year = present - past\n",
    "\n",
    "customData[\"Last Submission\"] = customData[\"Last Submission\"].apply(lambda x: pd.to_datetime(x))\n",
    "customData[\"First Submission\"] = customData[\"First Submission\"].apply(lambda x: pd.to_datetime(x))\n",
    "customData[\"lifetimeInHours\"] = (customData[\"Last Submission\"] - customData[\"First Submission\"]) / pd.Timedelta(hours=1)\n",
    "customData = customData[customData[\"Last Submission\"] < year]\n",
    "customData = customData[customData[\"Last Submission\"] != customData[\"First Submission\"]]\n",
    "customData = customData[customData['lifetimeInHours'] >= 0].dropna()\n",
    "customData = customData[customData['Malicious'] != 0]"
   ]
  },
  {
   "cell_type": "markdown",
   "id": "d8d99b89",
   "metadata": {},
   "source": [
    "### Percentile"
   ]
  },
  {
   "cell_type": "code",
   "execution_count": 15,
   "id": "f677c677",
   "metadata": {},
   "outputs": [
    {
     "data": {
      "text/html": [
       "<table><tr><td>10% Lifetime</td><td>114 days, 6:00:50.800000</td></tr><tr><td>20% Lifetime</td><td>239 days, 16:20:21.200000</td></tr><tr><td>30% Lifetime</td><td>788 days, 2:36:05.800000</td></tr><tr><td>40% Lifetime</td><td>1007 days, 19:47:17</td></tr><tr><td>50% Lifetime</td><td>1269 days, 8:32:23</td></tr><tr><td>60% Lifetime</td><td>1591 days, 0:40:39</td></tr><tr><td>70% Lifetime</td><td>1732 days, 18:35:30.600000</td></tr><tr><td>80% Lifetime</td><td>2191 days, 10:55:37</td></tr><tr><td>90% Lifetime</td><td>2574 days, 2:44:31.200000</td></tr><tr><td>100% Lifetime</td><td>3267 days, 20:53:01</td></tr></table>"
      ],
      "text/plain": [
       "<IPython.core.display.HTML object>"
      ]
     },
     "metadata": {},
     "output_type": "display_data"
    }
   ],
   "source": [
    "# Display information\n",
    "average = [[\"10% Lifetime\",timedelta(hours=np.percentile(customData[\"lifetimeInHours\"], 10))], \n",
    "           [\"20% Lifetime\",timedelta(hours=np.percentile(customData[\"lifetimeInHours\"], 20))], \n",
    "           [\"30% Lifetime\",timedelta(hours=np.percentile(customData[\"lifetimeInHours\"], 30))],\n",
    "           [\"40% Lifetime\",timedelta(hours=np.percentile(customData[\"lifetimeInHours\"], 40))], \n",
    "           [\"50% Lifetime\",timedelta(hours=np.percentile(customData[\"lifetimeInHours\"], 50))],\n",
    "           [\"60% Lifetime\",timedelta(hours=np.percentile(customData[\"lifetimeInHours\"], 60))],\n",
    "           [\"70% Lifetime\",timedelta(hours=np.percentile(customData[\"lifetimeInHours\"], 70))],\n",
    "           [\"80% Lifetime\",timedelta(hours=np.percentile(customData[\"lifetimeInHours\"], 80))],\n",
    "           [\"90% Lifetime\",timedelta(hours=np.percentile(customData[\"lifetimeInHours\"], 90))],\n",
    "           [\"100% Lifetime\",timedelta(hours=np.percentile(customData[\"lifetimeInHours\"], 100))]]\n",
    "\n",
    "display(HTML(\n",
    "   \"<table><tr>{}</tr></table>\".format(\n",
    "       \"</tr><tr>\".join(\n",
    "           \"<td>{}</td>\".format(\"</td><td>\".join(str(_) for _ in row)) for row in average))\n",
    "))"
   ]
  },
  {
   "cell_type": "code",
   "execution_count": 16,
   "id": "069da9a8",
   "metadata": {},
   "outputs": [],
   "source": [
    "# Split1 = 50/50\n",
    "split1_50_train, split1_50_test = train_test_split(customData, test_size=0.5)\n",
    "\n",
    "# Split1 = 70/30\n",
    "split2_30_train, split2_70_test = train_test_split(customData, test_size=0.7)\n",
    "\n",
    "# Split1 = 30/70\n",
    "split3_70_train, split3_30_test = train_test_split(customData, test_size=0.3)"
   ]
  },
  {
   "cell_type": "markdown",
   "id": "401415fa",
   "metadata": {},
   "source": [
    "### Split 1"
   ]
  },
  {
   "cell_type": "code",
   "execution_count": 17,
   "id": "582e5b8c",
   "metadata": {},
   "outputs": [
    {
     "data": {
      "text/html": [
       "<table><tr><td>10% Lifetime</td><td>Train: 114 days, 5:59:47.400000 Test: 114 days, 12:29:07.500000</td></tr><tr><td>20% Lifetime</td><td>Train: 215 days, 10:05:20.400000 Test: 244 days, 7:46:52.800000</td></tr><tr><td>30% Lifetime</td><td>Train: 759 days, 14:56:03.600000 Test: 817 days, 3:02:04.600000</td></tr><tr><td>40% Lifetime</td><td>Train: 1004 days, 12:40:59.400000 Test: 1018 days, 7:39:41.200000</td></tr><tr><td>50% Lifetime</td><td>Train: 1278 days, 12:02:54 Test: 1267 days, 12:21:30.500000</td></tr><tr><td>60% Lifetime</td><td>Train: 1590 days, 1:45:40.800000 Test: 1593 days, 16:19:46.200000</td></tr><tr><td>70% Lifetime</td><td>Train: 1696 days, 18:41:46.800000 Test: 1736 days, 9:58:29.300000</td></tr><tr><td>80% Lifetime</td><td>Train: 2072 days, 7:22:23.800000 Test: 2234 days, 19:18:10.800000</td></tr><tr><td>90% Lifetime</td><td>Train: 2461 days, 8:56:51.600000 Test: 2673 days, 4:40:46.500000</td></tr><tr><td>100% Lifetime</td><td>Train: 3207 days, 16:26:02 Test: 3267 days, 20:53:01</td></tr></table>"
      ],
      "text/plain": [
       "<IPython.core.display.HTML object>"
      ]
     },
     "metadata": {},
     "output_type": "display_data"
    }
   ],
   "source": [
    "# Display information\n",
    "average = [[\"10% Lifetime\",\"Train: \" +  str(timedelta(hours=np.percentile(split1_50_train[\"lifetimeInHours\"], 10))) + \" Test: \" +  str(timedelta(hours=np.percentile(split1_50_test[\"lifetimeInHours\"], 10)))], \n",
    "           [\"20% Lifetime\",\"Train: \" +  str(timedelta(hours=np.percentile(split1_50_train[\"lifetimeInHours\"], 20))) + \" Test: \" +  str(timedelta(hours=np.percentile(split1_50_test[\"lifetimeInHours\"], 20)))], \n",
    "           [\"30% Lifetime\",\"Train: \" +  str(timedelta(hours=np.percentile(split1_50_train[\"lifetimeInHours\"], 30))) + \" Test: \" +  str(timedelta(hours=np.percentile(split1_50_test[\"lifetimeInHours\"], 30)))],\n",
    "           [\"40% Lifetime\",\"Train: \" +  str(timedelta(hours=np.percentile(split1_50_train[\"lifetimeInHours\"], 40))) + \" Test: \" +  str(timedelta(hours=np.percentile(split1_50_test[\"lifetimeInHours\"], 40)))], \n",
    "           [\"50% Lifetime\",\"Train: \" +  str(timedelta(hours=np.percentile(split1_50_train[\"lifetimeInHours\"], 50))) + \" Test: \" +  str(timedelta(hours=np.percentile(split1_50_test[\"lifetimeInHours\"], 50)))],\n",
    "           [\"60% Lifetime\",\"Train: \" +  str(timedelta(hours=np.percentile(split1_50_train[\"lifetimeInHours\"], 60))) + \" Test: \" +  str(timedelta(hours=np.percentile(split1_50_test[\"lifetimeInHours\"], 60)))],\n",
    "           [\"70% Lifetime\",\"Train: \" +  str(timedelta(hours=np.percentile(split1_50_train[\"lifetimeInHours\"], 70))) + \" Test: \" +  str(timedelta(hours=np.percentile(split1_50_test[\"lifetimeInHours\"], 70)))],\n",
    "           [\"80% Lifetime\",\"Train: \" +  str(timedelta(hours=np.percentile(split1_50_train[\"lifetimeInHours\"], 80))) + \" Test: \" +  str(timedelta(hours=np.percentile(split1_50_test[\"lifetimeInHours\"], 80)))],\n",
    "           [\"90% Lifetime\",\"Train: \" +  str(timedelta(hours=np.percentile(split1_50_train[\"lifetimeInHours\"], 90))) + \" Test: \" +  str(timedelta(hours=np.percentile(split1_50_test[\"lifetimeInHours\"], 90)))],\n",
    "           [\"100% Lifetime\",\"Train: \" +  str(timedelta(hours=np.percentile(split1_50_train[\"lifetimeInHours\"], 100))) + \" Test: \" +  str(timedelta(hours=np.percentile(split1_50_test[\"lifetimeInHours\"], 100)))]]\n",
    "\n",
    "display(HTML(\n",
    "   \"<table><tr>{}</tr></table>\".format(\n",
    "       \"</tr><tr>\".join(\n",
    "           \"<td>{}</td>\".format(\"</td><td>\".join(str(_) for _ in row)) for row in average))\n",
    "))"
   ]
  },
  {
   "cell_type": "code",
   "execution_count": 18,
   "id": "11d6dd1f",
   "metadata": {},
   "outputs": [
    {
     "data": {
      "text/html": [
       "<table><tr><td>10% Lifetime</td><td>-1 day, 23:58:43.400000</td></tr><tr><td>20% Lifetime</td><td>-36 days, 10:00:24.400000</td></tr><tr><td>30% Lifetime</td><td>-93 days, 7:19:56.300000</td></tr><tr><td>40% Lifetime</td><td>-31 days, 14:02:26.800000</td></tr><tr><td>50% Lifetime</td><td>-23 days, 9:35:30.500000</td></tr><tr><td>60% Lifetime</td><td>60 days, 22:43:35.200000</td></tr><tr><td>70% Lifetime</td><td>94 days, 13:16:27.400000</td></tr><tr><td>80% Lifetime</td><td>217 days, 18:55:19</td></tr><tr><td>90% Lifetime</td><td>149 days, 15:45:20</td></tr><tr><td>100% Lifetime</td><td>-9 days, 19:48:11</td></tr></table>"
      ],
      "text/plain": [
       "<IPython.core.display.HTML object>"
      ]
     },
     "metadata": {},
     "output_type": "display_data"
    }
   ],
   "source": [
    "# Display information\n",
    "average = [[\"10% Lifetime\",timedelta(hours=np.percentile(split2_30_train[\"lifetimeInHours\"], 10)) -  timedelta(hours=np.percentile(split2_70_test[\"lifetimeInHours\"], 10))], \n",
    "           [\"20% Lifetime\",timedelta(hours=np.percentile(split2_30_train[\"lifetimeInHours\"], 20)) -  timedelta(hours=np.percentile(split2_70_test[\"lifetimeInHours\"], 20))], \n",
    "           [\"30% Lifetime\",timedelta(hours=np.percentile(split2_30_train[\"lifetimeInHours\"], 30)) -  timedelta(hours=np.percentile(split2_70_test[\"lifetimeInHours\"], 30))],\n",
    "           [\"40% Lifetime\",timedelta(hours=np.percentile(split2_30_train[\"lifetimeInHours\"], 40)) -  timedelta(hours=np.percentile(split2_70_test[\"lifetimeInHours\"], 40))], \n",
    "           [\"50% Lifetime\",timedelta(hours=np.percentile(split2_30_train[\"lifetimeInHours\"], 50)) -  timedelta(hours=np.percentile(split2_70_test[\"lifetimeInHours\"], 50))],\n",
    "           [\"60% Lifetime\",timedelta(hours=np.percentile(split2_30_train[\"lifetimeInHours\"], 60)) -  timedelta(hours=np.percentile(split2_70_test[\"lifetimeInHours\"], 60))],\n",
    "           [\"70% Lifetime\",timedelta(hours=np.percentile(split2_30_train[\"lifetimeInHours\"], 70)) -  timedelta(hours=np.percentile(split2_70_test[\"lifetimeInHours\"], 70))],\n",
    "           [\"80% Lifetime\",timedelta(hours=np.percentile(split2_30_train[\"lifetimeInHours\"], 80)) -  timedelta(hours=np.percentile(split2_70_test[\"lifetimeInHours\"], 80))],\n",
    "           [\"90% Lifetime\",timedelta(hours=np.percentile(split2_30_train[\"lifetimeInHours\"], 90)) -  timedelta(hours=np.percentile(split2_70_test[\"lifetimeInHours\"], 90))],\n",
    "           [\"100% Lifetime\",timedelta(hours=np.percentile(split2_30_train[\"lifetimeInHours\"], 100)) -  timedelta(hours=np.percentile(split2_70_test[\"lifetimeInHours\"], 100))]]\n",
    "\n",
    "display(HTML(\n",
    "   \"<table><tr>{}</tr></table>\".format(\n",
    "       \"</tr><tr>\".join(\n",
    "           \"<td>{}</td>\".format(\"</td><td>\".join(str(_) for _ in row)) for row in average))\n",
    "))"
   ]
  },
  {
   "cell_type": "code",
   "execution_count": 19,
   "id": "b7cf5f87",
   "metadata": {},
   "outputs": [
    {
     "name": "stdout",
     "output_type": "stream",
     "text": [
      "-57 days, 6:38:49.940000\n"
     ]
    }
   ],
   "source": [
    "# Display information\n",
    "vt_1 = ((timedelta(hours=np.percentile(split1_50_train[\"lifetimeInHours\"], 10)) -  timedelta(hours=np.percentile(split1_50_test[\"lifetimeInHours\"], 10))) +\n",
    "(timedelta(hours=np.percentile(split1_50_train[\"lifetimeInHours\"], 20)) -  timedelta(hours=np.percentile(split1_50_test[\"lifetimeInHours\"], 20))) +\n",
    "(timedelta(hours=np.percentile(split1_50_train[\"lifetimeInHours\"], 30)) -  timedelta(hours=np.percentile(split1_50_test[\"lifetimeInHours\"], 30))) +\n",
    "(timedelta(hours=np.percentile(split1_50_train[\"lifetimeInHours\"], 40)) -  timedelta(hours=np.percentile(split1_50_test[\"lifetimeInHours\"], 40))) +\n",
    "(timedelta(hours=np.percentile(split1_50_train[\"lifetimeInHours\"], 50)) -  timedelta(hours=np.percentile(split1_50_test[\"lifetimeInHours\"], 50))) +\n",
    "(timedelta(hours=np.percentile(split1_50_train[\"lifetimeInHours\"], 60)) -  timedelta(hours=np.percentile(split1_50_test[\"lifetimeInHours\"], 60))) +\n",
    "(timedelta(hours=np.percentile(split1_50_train[\"lifetimeInHours\"], 70)) -  timedelta(hours=np.percentile(split1_50_test[\"lifetimeInHours\"], 70))) +\n",
    "(timedelta(hours=np.percentile(split1_50_train[\"lifetimeInHours\"], 80)) -  timedelta(hours=np.percentile(split1_50_test[\"lifetimeInHours\"], 80))) +\n",
    "(timedelta(hours=np.percentile(split1_50_train[\"lifetimeInHours\"], 90)) -  timedelta(hours=np.percentile(split1_50_test[\"lifetimeInHours\"], 90))) +\n",
    "(timedelta(hours=np.percentile(split1_50_train[\"lifetimeInHours\"], 100)) -  timedelta(hours=np.percentile(split1_50_test[\"lifetimeInHours\"], 100)))) / 10\n",
    "print(vt_1)"
   ]
  },
  {
   "cell_type": "markdown",
   "id": "155b7a5b",
   "metadata": {},
   "source": [
    "### Split 2"
   ]
  },
  {
   "cell_type": "code",
   "execution_count": 20,
   "id": "905668e1",
   "metadata": {},
   "outputs": [
    {
     "data": {
      "text/html": [
       "<table><tr><td>10% Lifetime</td><td>Train: 114 days, 5:59:58.200000 Test: 114 days, 6:01:14.800000</td></tr><tr><td>20% Lifetime</td><td>Train: 215 days, 10:04:59 Test: 251 days, 0:04:34.600000</td></tr><tr><td>30% Lifetime</td><td>Train: 726 days, 12:12:15.600000 Test: 819 days, 4:52:19.300000</td></tr><tr><td>40% Lifetime</td><td>Train: 994 days, 11:03:34 Test: 1024 days, 21:01:07.200000</td></tr><tr><td>50% Lifetime</td><td>Train: 1269 days, 8:32:23 Test: 1291 days, 22:56:52.500000</td></tr><tr><td>60% Lifetime</td><td>Train: 1650 days, 21:15:59.600000 Test: 1589 days, 22:32:24.400000</td></tr><tr><td>70% Lifetime</td><td>Train: 1799 days, 2:23:46 Test: 1704 days, 13:07:18.600000</td></tr><tr><td>80% Lifetime</td><td>Train: 2288 days, 1:20:10.400000 Test: 2070 days, 6:24:51.400000</td></tr><tr><td>90% Lifetime</td><td>Train: 2667 days, 8:38:52.200000 Test: 2517 days, 16:53:32.200000</td></tr><tr><td>100% Lifetime</td><td>Train: 3259 days, 16:41:12 Test: 3267 days, 20:53:01</td></tr></table>"
      ],
      "text/plain": [
       "<IPython.core.display.HTML object>"
      ]
     },
     "metadata": {},
     "output_type": "display_data"
    }
   ],
   "source": [
    "# Display information\n",
    "average = [[\"10% Lifetime\",\"Train: \" +  str(timedelta(hours=np.percentile(split2_30_train[\"lifetimeInHours\"], 10))) + \" Test: \" +  str(timedelta(hours=np.percentile(split2_70_test[\"lifetimeInHours\"], 10)))], \n",
    "           [\"20% Lifetime\",\"Train: \" +  str(timedelta(hours=np.percentile(split2_30_train[\"lifetimeInHours\"], 20))) + \" Test: \" +  str(timedelta(hours=np.percentile(split2_70_test[\"lifetimeInHours\"], 20)))], \n",
    "           [\"30% Lifetime\",\"Train: \" +  str(timedelta(hours=np.percentile(split2_30_train[\"lifetimeInHours\"], 30))) + \" Test: \" +  str(timedelta(hours=np.percentile(split2_70_test[\"lifetimeInHours\"], 30)))],\n",
    "           [\"40% Lifetime\",\"Train: \" +  str(timedelta(hours=np.percentile(split2_30_train[\"lifetimeInHours\"], 40))) + \" Test: \" +  str(timedelta(hours=np.percentile(split2_70_test[\"lifetimeInHours\"], 40)))], \n",
    "           [\"50% Lifetime\",\"Train: \" +  str(timedelta(hours=np.percentile(split2_30_train[\"lifetimeInHours\"], 50))) + \" Test: \" +  str(timedelta(hours=np.percentile(split2_70_test[\"lifetimeInHours\"], 50)))],\n",
    "           [\"60% Lifetime\",\"Train: \" +  str(timedelta(hours=np.percentile(split2_30_train[\"lifetimeInHours\"], 60))) + \" Test: \" +  str(timedelta(hours=np.percentile(split2_70_test[\"lifetimeInHours\"], 60)))],\n",
    "           [\"70% Lifetime\",\"Train: \" +  str(timedelta(hours=np.percentile(split2_30_train[\"lifetimeInHours\"], 70))) + \" Test: \" +  str(timedelta(hours=np.percentile(split2_70_test[\"lifetimeInHours\"], 70)))],\n",
    "           [\"80% Lifetime\",\"Train: \" +  str(timedelta(hours=np.percentile(split2_30_train[\"lifetimeInHours\"], 80))) + \" Test: \" +  str(timedelta(hours=np.percentile(split2_70_test[\"lifetimeInHours\"], 80)))],\n",
    "           [\"90% Lifetime\",\"Train: \" +  str(timedelta(hours=np.percentile(split2_30_train[\"lifetimeInHours\"], 90))) + \" Test: \" +  str(timedelta(hours=np.percentile(split2_70_test[\"lifetimeInHours\"], 90)))],\n",
    "           [\"100% Lifetime\",\"Train: \" +  str(timedelta(hours=np.percentile(split2_30_train[\"lifetimeInHours\"], 100))) + \" Test: \" +  str(timedelta(hours=np.percentile(split2_70_test[\"lifetimeInHours\"], 100)))]]\n",
    "\n",
    "display(HTML(\n",
    "   \"<table><tr>{}</tr></table>\".format(\n",
    "       \"</tr><tr>\".join(\n",
    "           \"<td>{}</td>\".format(\"</td><td>\".join(str(_) for _ in row)) for row in average))\n",
    "))"
   ]
  },
  {
   "cell_type": "code",
   "execution_count": 21,
   "id": "ddd11459",
   "metadata": {},
   "outputs": [
    {
     "name": "stdout",
     "output_type": "stream",
     "text": [
      "33 days, 8:20:35.400000\n"
     ]
    }
   ],
   "source": [
    "vt_2 = ((timedelta(hours=np.percentile(split2_30_train[\"lifetimeInHours\"], 10)) -  timedelta(hours=np.percentile(split2_70_test[\"lifetimeInHours\"], 10))) +\n",
    "(timedelta(hours=np.percentile(split2_30_train[\"lifetimeInHours\"], 20)) -  timedelta(hours=np.percentile(split2_70_test[\"lifetimeInHours\"], 20))) +\n",
    "(timedelta(hours=np.percentile(split2_30_train[\"lifetimeInHours\"], 30)) -  timedelta(hours=np.percentile(split2_70_test[\"lifetimeInHours\"], 30))) +\n",
    "(timedelta(hours=np.percentile(split2_30_train[\"lifetimeInHours\"], 40)) -  timedelta(hours=np.percentile(split2_70_test[\"lifetimeInHours\"], 40))) +\n",
    "(timedelta(hours=np.percentile(split2_30_train[\"lifetimeInHours\"], 50)) -  timedelta(hours=np.percentile(split2_70_test[\"lifetimeInHours\"], 50))) +\n",
    "(timedelta(hours=np.percentile(split2_30_train[\"lifetimeInHours\"], 60)) -  timedelta(hours=np.percentile(split2_70_test[\"lifetimeInHours\"], 60))) +\n",
    "(timedelta(hours=np.percentile(split2_30_train[\"lifetimeInHours\"], 70)) -  timedelta(hours=np.percentile(split2_70_test[\"lifetimeInHours\"], 70))) +\n",
    "(timedelta(hours=np.percentile(split2_30_train[\"lifetimeInHours\"], 80)) -  timedelta(hours=np.percentile(split2_70_test[\"lifetimeInHours\"], 80))) +\n",
    "(timedelta(hours=np.percentile(split2_30_train[\"lifetimeInHours\"], 90)) -  timedelta(hours=np.percentile(split2_70_test[\"lifetimeInHours\"], 90))) +\n",
    "(timedelta(hours=np.percentile(split2_30_train[\"lifetimeInHours\"], 100)) -  timedelta(hours=np.percentile(split2_70_test[\"lifetimeInHours\"], 100)))) / 10\n",
    "print(vt_2)"
   ]
  },
  {
   "cell_type": "markdown",
   "id": "700e8d81",
   "metadata": {},
   "source": [
    "### Split 3"
   ]
  },
  {
   "cell_type": "code",
   "execution_count": 22,
   "id": "5276656b",
   "metadata": {},
   "outputs": [
    {
     "data": {
      "text/html": [
       "<table><tr><td>10% Lifetime</td><td>Train: 114 days, 10:14:47 Test: 114 days, 6:00:07.700000</td></tr><tr><td>20% Lifetime</td><td>Train: 255 days, 21:50:49.800000 Test: 215 days, 10:02:12.400000</td></tr><tr><td>30% Lifetime</td><td>Train: 820 days, 2:34:15.400000 Test: 258 days, 18:04:15.600000</td></tr><tr><td>40% Lifetime</td><td>Train: 1091 days, 1:21:10.800000 Test: 882 days, 0:37:29.600000</td></tr><tr><td>50% Lifetime</td><td>Train: 1365 days, 17:27:19 Test: 1213 days, 8:46:47.500000</td></tr><tr><td>60% Lifetime</td><td>Train: 1660 days, 18:10:27.200000 Test: 1472 days, 0:08:19</td></tr><tr><td>70% Lifetime</td><td>Train: 1755 days, 12:13:10 Test: 1639 days, 13:10:36.500000</td></tr><tr><td>80% Lifetime</td><td>Train: 2216 days, 7:56:11.600000 Test: 2068 days, 8:58:58.800000</td></tr><tr><td>90% Lifetime</td><td>Train: 2666 days, 20:09:43.200000 Test: 2505 days, 9:05:45.100000</td></tr><tr><td>100% Lifetime</td><td>Train: 3267 days, 20:53:01 Test: 2981 days, 3:03:13</td></tr></table>"
      ],
      "text/plain": [
       "<IPython.core.display.HTML object>"
      ]
     },
     "metadata": {},
     "output_type": "display_data"
    }
   ],
   "source": [
    "# Display information\n",
    "average = [[\"10% Lifetime\",\"Train: \" +  str(timedelta(hours=np.percentile(split3_70_train[\"lifetimeInHours\"], 10))) + \" Test: \" +  str(timedelta(hours=np.percentile(split3_30_test[\"lifetimeInHours\"], 10)))], \n",
    "           [\"20% Lifetime\",\"Train: \" +  str(timedelta(hours=np.percentile(split3_70_train[\"lifetimeInHours\"], 20))) + \" Test: \" +  str(timedelta(hours=np.percentile(split3_30_test[\"lifetimeInHours\"], 20)))], \n",
    "           [\"30% Lifetime\",\"Train: \" +  str(timedelta(hours=np.percentile(split3_70_train[\"lifetimeInHours\"], 30))) + \" Test: \" +  str(timedelta(hours=np.percentile(split3_30_test[\"lifetimeInHours\"], 30)))],\n",
    "           [\"40% Lifetime\",\"Train: \" +  str(timedelta(hours=np.percentile(split3_70_train[\"lifetimeInHours\"], 40))) + \" Test: \" +  str(timedelta(hours=np.percentile(split3_30_test[\"lifetimeInHours\"], 40)))], \n",
    "           [\"50% Lifetime\",\"Train: \" +  str(timedelta(hours=np.percentile(split3_70_train[\"lifetimeInHours\"], 50))) + \" Test: \" +  str(timedelta(hours=np.percentile(split3_30_test[\"lifetimeInHours\"], 50)))],\n",
    "           [\"60% Lifetime\",\"Train: \" +  str(timedelta(hours=np.percentile(split3_70_train[\"lifetimeInHours\"], 60))) + \" Test: \" +  str(timedelta(hours=np.percentile(split3_30_test[\"lifetimeInHours\"], 60)))],\n",
    "           [\"70% Lifetime\",\"Train: \" +  str(timedelta(hours=np.percentile(split3_70_train[\"lifetimeInHours\"], 70))) + \" Test: \" +  str(timedelta(hours=np.percentile(split3_30_test[\"lifetimeInHours\"], 70)))],\n",
    "           [\"80% Lifetime\",\"Train: \" +  str(timedelta(hours=np.percentile(split3_70_train[\"lifetimeInHours\"], 80))) + \" Test: \" +  str(timedelta(hours=np.percentile(split3_30_test[\"lifetimeInHours\"], 80)))],\n",
    "           [\"90% Lifetime\",\"Train: \" +  str(timedelta(hours=np.percentile(split3_70_train[\"lifetimeInHours\"], 90))) + \" Test: \" +  str(timedelta(hours=np.percentile(split3_30_test[\"lifetimeInHours\"], 90)))],\n",
    "           [\"100% Lifetime\",\"Train: \" +  str(timedelta(hours=np.percentile(split3_70_train[\"lifetimeInHours\"], 100))) + \" Test: \" +  str(timedelta(hours=np.percentile(split3_30_test[\"lifetimeInHours\"], 100)))]]\n",
    "\n",
    "display(HTML(\n",
    "   \"<table><tr>{}</tr></table>\".format(\n",
    "       \"</tr><tr>\".join(\n",
    "           \"<td>{}</td>\".format(\"</td><td>\".join(str(_) for _ in row)) for row in average))\n",
    "))"
   ]
  },
  {
   "cell_type": "code",
   "execution_count": 23,
   "id": "1a273c67",
   "metadata": {},
   "outputs": [
    {
     "name": "stdout",
     "output_type": "stream",
     "text": [
      "186 days, 10:17:18.980000\n"
     ]
    }
   ],
   "source": [
    "# Display information\n",
    "vt_3 = ((timedelta(hours=np.percentile(split3_70_train[\"lifetimeInHours\"], 10)) -  timedelta(hours=np.percentile(split3_30_test[\"lifetimeInHours\"], 10))) +\n",
    "(timedelta(hours=np.percentile(split3_70_train[\"lifetimeInHours\"], 20)) -  timedelta(hours=np.percentile(split3_30_test[\"lifetimeInHours\"], 20))) +\n",
    "(timedelta(hours=np.percentile(split3_70_train[\"lifetimeInHours\"], 30)) -  timedelta(hours=np.percentile(split3_30_test[\"lifetimeInHours\"], 30))) +\n",
    "(timedelta(hours=np.percentile(split3_70_train[\"lifetimeInHours\"], 40)) -  timedelta(hours=np.percentile(split3_30_test[\"lifetimeInHours\"], 40))) +\n",
    "(timedelta(hours=np.percentile(split3_70_train[\"lifetimeInHours\"], 50)) -  timedelta(hours=np.percentile(split3_30_test[\"lifetimeInHours\"], 50))) +\n",
    "(timedelta(hours=np.percentile(split3_70_train[\"lifetimeInHours\"], 60)) -  timedelta(hours=np.percentile(split3_30_test[\"lifetimeInHours\"], 60))) +\n",
    "(timedelta(hours=np.percentile(split3_70_train[\"lifetimeInHours\"], 70)) -  timedelta(hours=np.percentile(split3_30_test[\"lifetimeInHours\"], 70))) +\n",
    "(timedelta(hours=np.percentile(split3_70_train[\"lifetimeInHours\"], 80)) -  timedelta(hours=np.percentile(split3_30_test[\"lifetimeInHours\"], 80))) +\n",
    "(timedelta(hours=np.percentile(split3_70_train[\"lifetimeInHours\"], 90)) -  timedelta(hours=np.percentile(split3_30_test[\"lifetimeInHours\"], 90))) +\n",
    "(timedelta(hours=np.percentile(split3_70_train[\"lifetimeInHours\"], 100)) -  timedelta(hours=np.percentile(split3_30_test[\"lifetimeInHours\"], 100)))) / 10\n",
    "print(vt_3)"
   ]
  },
  {
   "cell_type": "markdown",
   "id": "b59b013e",
   "metadata": {},
   "source": [
    "## Overall"
   ]
  },
  {
   "cell_type": "code",
   "execution_count": 24,
   "id": "ccc618e6",
   "metadata": {},
   "outputs": [
    {
     "name": "stdout",
     "output_type": "stream",
     "text": [
      "27 days, 1:14:51.018333\n"
     ]
    }
   ],
   "source": [
    "print((tf_1 + tf_2 + tf_3 + vt_1 + vt_2 + vt_3)/6)"
   ]
  },
  {
   "cell_type": "code",
   "execution_count": 25,
   "id": "75f7747e",
   "metadata": {},
   "outputs": [
    {
     "name": "stdout",
     "output_type": "stream",
     "text": [
      "-1 day, 18:04:07.263333\n"
     ]
    }
   ],
   "source": [
    "print((tf_1 + tf_2 + tf_3)/3)"
   ]
  },
  {
   "cell_type": "code",
   "execution_count": 26,
   "id": "c2445aaa",
   "metadata": {},
   "outputs": [
    {
     "name": "stdout",
     "output_type": "stream",
     "text": [
      "54 days, 8:25:34.773333\n"
     ]
    }
   ],
   "source": [
    "print((vt_1 + vt_2 + vt_3)/3)"
   ]
  },
  {
   "cell_type": "code",
   "execution_count": 27,
   "id": "a561c9fb",
   "metadata": {},
   "outputs": [],
   "source": [
    "# Split1 = 50/50\n",
    "split1_50_train_vt, split1_50_test_vt = train_test_split(customData, test_size=0.5)\n",
    "\n",
    "# Split1 = 70/30\n",
    "split2_30_train_vt, split2_70_test_vt = train_test_split(customData, test_size=0.7)\n",
    "\n",
    "# Split1 = 30/70\n",
    "split3_70_train_vt, split3_30_test_vt = train_test_split(customData, test_size=0.3)\n",
    "\n",
    "# Split1 = 50/50\n",
    "split1_50_train, split1_50_test = train_test_split(fullData, test_size=0.5)\n",
    "\n",
    "# Split1 = 70/30\n",
    "split2_30_train, split2_70_test = train_test_split(fullData, test_size=0.7)\n",
    "\n",
    "# Split1 = 30/70\n",
    "split3_70_train, split3_30_test = train_test_split(fullData, test_size=0.3)"
   ]
  },
  {
   "cell_type": "code",
   "execution_count": 30,
   "id": "607e31be",
   "metadata": {},
   "outputs": [
    {
     "name": "stdout",
     "output_type": "stream",
     "text": [
      "1192 days, 14:10:51.710000\n"
     ]
    }
   ],
   "source": [
    "# Display information\n",
    "all_1 = ((timedelta(hours=np.percentile(split1_50_test_vt[\"lifetimeInHours\"], 10)) -  timedelta(hours=np.percentile(split1_50_test[\"lifetimeHours\"], 10))) +\n",
    "(timedelta(hours=np.percentile(split1_50_test_vt[\"lifetimeInHours\"], 20)) -  timedelta(hours=np.percentile(split1_50_test[\"lifetimeHours\"], 20))) +\n",
    "(timedelta(hours=np.percentile(split1_50_test_vt[\"lifetimeInHours\"], 30)) -  timedelta(hours=np.percentile(split1_50_test[\"lifetimeHours\"], 30))) +\n",
    "(timedelta(hours=np.percentile(split1_50_test_vt[\"lifetimeInHours\"], 40)) -  timedelta(hours=np.percentile(split1_50_test[\"lifetimeHours\"], 40))) +\n",
    "(timedelta(hours=np.percentile(split1_50_test_vt[\"lifetimeInHours\"], 50)) -  timedelta(hours=np.percentile(split1_50_test[\"lifetimeHours\"], 50))) +\n",
    "(timedelta(hours=np.percentile(split1_50_test_vt[\"lifetimeInHours\"], 60)) -  timedelta(hours=np.percentile(split1_50_test[\"lifetimeHours\"], 60))) +\n",
    "(timedelta(hours=np.percentile(split1_50_test_vt[\"lifetimeInHours\"], 70)) -  timedelta(hours=np.percentile(split1_50_test[\"lifetimeHours\"], 70))) +\n",
    "(timedelta(hours=np.percentile(split1_50_test_vt[\"lifetimeInHours\"], 80)) -  timedelta(hours=np.percentile(split1_50_test[\"lifetimeHours\"], 80))) +\n",
    "(timedelta(hours=np.percentile(split1_50_test_vt[\"lifetimeInHours\"], 90)) -  timedelta(hours=np.percentile(split1_50_test[\"lifetimeHours\"], 90))) +\n",
    "(timedelta(hours=np.percentile(split1_50_test_vt[\"lifetimeInHours\"], 100)) -  timedelta(hours=np.percentile(split1_50_test[\"lifetimeHours\"], 100)))) / 10\n",
    "print(all_1)"
   ]
  },
  {
   "cell_type": "code",
   "execution_count": 32,
   "id": "e5d90f6e",
   "metadata": {},
   "outputs": [
    {
     "name": "stdout",
     "output_type": "stream",
     "text": [
      "1436 days, 21:45:59.260000\n"
     ]
    }
   ],
   "source": [
    "# Display information\n",
    "all_2 = ((timedelta(hours=np.percentile(split2_30_train_vt[\"lifetimeInHours\"], 10)) -  timedelta(hours=np.percentile(split2_70_test[\"lifetimeHours\"], 10))) +\n",
    "(timedelta(hours=np.percentile(split2_30_train_vt[\"lifetimeInHours\"], 20)) -  timedelta(hours=np.percentile(split2_70_test[\"lifetimeHours\"], 20))) +\n",
    "(timedelta(hours=np.percentile(split2_30_train_vt[\"lifetimeInHours\"], 30)) -  timedelta(hours=np.percentile(split2_70_test[\"lifetimeHours\"], 30))) +\n",
    "(timedelta(hours=np.percentile(split2_30_train_vt[\"lifetimeInHours\"], 40)) -  timedelta(hours=np.percentile(split2_70_test[\"lifetimeHours\"], 40))) +\n",
    "(timedelta(hours=np.percentile(split2_30_train_vt[\"lifetimeInHours\"], 50)) -  timedelta(hours=np.percentile(split2_70_test[\"lifetimeHours\"], 50))) +\n",
    "(timedelta(hours=np.percentile(split2_30_train_vt[\"lifetimeInHours\"], 60)) -  timedelta(hours=np.percentile(split2_70_test[\"lifetimeHours\"], 60))) +\n",
    "(timedelta(hours=np.percentile(split2_30_train_vt[\"lifetimeInHours\"], 70)) -  timedelta(hours=np.percentile(split2_70_test[\"lifetimeHours\"], 70))) +\n",
    "(timedelta(hours=np.percentile(split2_30_train_vt[\"lifetimeInHours\"], 80)) -  timedelta(hours=np.percentile(split2_70_test[\"lifetimeHours\"], 80))) +\n",
    "(timedelta(hours=np.percentile(split2_30_train_vt[\"lifetimeInHours\"], 90)) -  timedelta(hours=np.percentile(split2_70_test[\"lifetimeHours\"], 90))) +\n",
    "(timedelta(hours=np.percentile(split2_30_train_vt[\"lifetimeInHours\"], 100)) -  timedelta(hours=np.percentile(split2_70_test[\"lifetimeHours\"], 100)))) / 10\n",
    "print(all_2)"
   ]
  },
  {
   "cell_type": "code",
   "execution_count": 33,
   "id": "5562085f",
   "metadata": {},
   "outputs": [
    {
     "name": "stdout",
     "output_type": "stream",
     "text": [
      "1295 days, 3:45:07.500000\n"
     ]
    }
   ],
   "source": [
    "# Display information\n",
    "all_3 = ((timedelta(hours=np.percentile(split3_70_train_vt[\"lifetimeInHours\"], 10)) -  timedelta(hours=np.percentile(split3_30_test[\"lifetimeHours\"], 10))) +\n",
    "(timedelta(hours=np.percentile(split3_70_train_vt[\"lifetimeInHours\"], 20)) -  timedelta(hours=np.percentile(split3_30_test[\"lifetimeHours\"], 20))) +\n",
    "(timedelta(hours=np.percentile(split3_70_train_vt[\"lifetimeInHours\"], 30)) -  timedelta(hours=np.percentile(split3_30_test[\"lifetimeHours\"], 30))) +\n",
    "(timedelta(hours=np.percentile(split3_70_train_vt[\"lifetimeInHours\"], 40)) -  timedelta(hours=np.percentile(split3_30_test[\"lifetimeHours\"], 40))) +\n",
    "(timedelta(hours=np.percentile(split3_70_train_vt[\"lifetimeInHours\"], 50)) -  timedelta(hours=np.percentile(split3_30_test[\"lifetimeHours\"], 50))) +\n",
    "(timedelta(hours=np.percentile(split3_70_train_vt[\"lifetimeInHours\"], 60)) -  timedelta(hours=np.percentile(split3_30_test[\"lifetimeHours\"], 60))) +\n",
    "(timedelta(hours=np.percentile(split3_70_train_vt[\"lifetimeInHours\"], 70)) -  timedelta(hours=np.percentile(split3_30_test[\"lifetimeHours\"], 70))) +\n",
    "(timedelta(hours=np.percentile(split3_70_train_vt[\"lifetimeInHours\"], 80)) -  timedelta(hours=np.percentile(split3_30_test[\"lifetimeHours\"], 80))) +\n",
    "(timedelta(hours=np.percentile(split3_70_train_vt[\"lifetimeInHours\"], 90)) -  timedelta(hours=np.percentile(split3_30_test[\"lifetimeHours\"], 90))) +\n",
    "(timedelta(hours=np.percentile(split3_70_train_vt[\"lifetimeInHours\"], 100)) -  timedelta(hours=np.percentile(split3_30_test[\"lifetimeHours\"], 100)))) / 10\n",
    "print(all_3)"
   ]
  },
  {
   "cell_type": "code",
   "execution_count": 34,
   "id": "22d55bc2",
   "metadata": {},
   "outputs": [
    {
     "name": "stdout",
     "output_type": "stream",
     "text": [
      "1308 days, 5:13:59.490000\n"
     ]
    }
   ],
   "source": [
    "print((all_1 + all_2 + all_3)/3)"
   ]
  },
  {
   "cell_type": "code",
   "execution_count": null,
   "id": "6eeb20c9",
   "metadata": {},
   "outputs": [],
   "source": []
  }
 ],
 "metadata": {
  "kernelspec": {
   "display_name": "Python 3 (ipykernel)",
   "language": "python",
   "name": "python3"
  },
  "language_info": {
   "codemirror_mode": {
    "name": "ipython",
    "version": 3
   },
   "file_extension": ".py",
   "mimetype": "text/x-python",
   "name": "python",
   "nbconvert_exporter": "python",
   "pygments_lexer": "ipython3",
   "version": "3.10.9"
  }
 },
 "nbformat": 4,
 "nbformat_minor": 5
}
